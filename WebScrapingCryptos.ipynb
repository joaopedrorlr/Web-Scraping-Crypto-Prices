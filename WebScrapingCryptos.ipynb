{
 "cells": [
  {
   "cell_type": "markdown",
   "metadata": {},
   "source": [
    "## Webscraping Crypto Prices"
   ]
  },
  {
   "cell_type": "markdown",
   "metadata": {},
   "source": [
    "This project seeked to webscrape the CoinMarketCap website and get the real time price for the top 10 cryptocurrencies"
   ]
  },
  {
   "cell_type": "markdown",
   "metadata": {},
   "source": [
    "___________________________________________"
   ]
  },
  {
   "cell_type": "markdown",
   "metadata": {},
   "source": [
    "Importing Libraries"
   ]
  },
  {
   "cell_type": "code",
   "execution_count": 334,
   "metadata": {},
   "outputs": [],
   "source": [
    "from bs4 import BeautifulSoup\n",
    "import requests\n",
    "import pandas as pd"
   ]
  },
  {
   "cell_type": "markdown",
   "metadata": {},
   "source": [
    "Scraping the website"
   ]
  },
  {
   "cell_type": "code",
   "execution_count": 335,
   "metadata": {},
   "outputs": [],
   "source": [
    "url = 'https://coinmarketcap.com/'\n",
    "\n",
    "page = requests.get(url)\n",
    "\n",
    "soup = BeautifulSoup(page.text, 'html')"
   ]
  },
  {
   "cell_type": "markdown",
   "metadata": {},
   "source": [
    "Reading the table"
   ]
  },
  {
   "cell_type": "code",
   "execution_count": 336,
   "metadata": {},
   "outputs": [],
   "source": [
    "table = soup.find('table')"
   ]
  },
  {
   "cell_type": "markdown",
   "metadata": {},
   "source": [
    "Creating a list with the header"
   ]
  },
  {
   "cell_type": "code",
   "execution_count": 337,
   "metadata": {},
   "outputs": [
    {
     "name": "stdout",
     "output_type": "stream",
     "text": [
      "['', '#', 'Name', 'Price', '1h %', '24h %', '7d %', 'Market Cap', 'Volume(24h)', 'Circulating Supply', 'Last 7 Days']\n"
     ]
    }
   ],
   "source": [
    "header = table.find_all('th')\n",
    "header = [title.text for title in header]\n",
    "print(header)"
   ]
  },
  {
   "cell_type": "markdown",
   "metadata": {},
   "source": [
    "Creating the DataFrame"
   ]
  },
  {
   "cell_type": "code",
   "execution_count": 338,
   "metadata": {},
   "outputs": [],
   "source": [
    "crypto_df = pd.DataFrame(columns = header)"
   ]
  },
  {
   "cell_type": "markdown",
   "metadata": {},
   "source": [
    "Getting data of the top 10 cryptos and storing in the DataFrame"
   ]
  },
  {
   "cell_type": "code",
   "execution_count": 339,
   "metadata": {},
   "outputs": [],
   "source": [
    "column_data = table.find_all('tr')\n",
    "\n",
    "for row in column_data[1:11]:\n",
    "    row_data = row.find_all('td')\n",
    "    individual_row_data = [data.text for data in row_data]\n",
    "\n",
    "    length = len(crypto_df)\n",
    "    crypto_df.loc[length] = individual_row_data"
   ]
  },
  {
   "cell_type": "markdown",
   "metadata": {},
   "source": [
    "Dropping unwanted columns"
   ]
  },
  {
   "cell_type": "code",
   "execution_count": 340,
   "metadata": {},
   "outputs": [
    {
     "data": {
      "text/html": [
       "<div>\n",
       "<style scoped>\n",
       "    .dataframe tbody tr th:only-of-type {\n",
       "        vertical-align: middle;\n",
       "    }\n",
       "\n",
       "    .dataframe tbody tr th {\n",
       "        vertical-align: top;\n",
       "    }\n",
       "\n",
       "    .dataframe thead th {\n",
       "        text-align: right;\n",
       "    }\n",
       "</style>\n",
       "<table border=\"1\" class=\"dataframe\">\n",
       "  <thead>\n",
       "    <tr style=\"text-align: right;\">\n",
       "      <th></th>\n",
       "      <th></th>\n",
       "      <th>Name</th>\n",
       "      <th>Price</th>\n",
       "      <th>Market Cap</th>\n",
       "    </tr>\n",
       "  </thead>\n",
       "  <tbody>\n",
       "    <tr>\n",
       "      <th>0</th>\n",
       "      <td></td>\n",
       "      <td>BitcoinBTC</td>\n",
       "      <td>$41,791.15</td>\n",
       "      <td>$817.06B$817,062,113,181</td>\n",
       "    </tr>\n",
       "    <tr>\n",
       "      <th>1</th>\n",
       "      <td></td>\n",
       "      <td>EthereumETH</td>\n",
       "      <td>$2,230.07</td>\n",
       "      <td>$268.02B$268,017,533,198</td>\n",
       "    </tr>\n",
       "    <tr>\n",
       "      <th>2</th>\n",
       "      <td></td>\n",
       "      <td>Tether USDtUSDT</td>\n",
       "      <td>$0.9999</td>\n",
       "      <td>$89.64B$89,640,573,120</td>\n",
       "    </tr>\n",
       "    <tr>\n",
       "      <th>3</th>\n",
       "      <td></td>\n",
       "      <td>BNBBNB</td>\n",
       "      <td>$231.26</td>\n",
       "      <td>$35.08B$35,081,479,048</td>\n",
       "    </tr>\n",
       "    <tr>\n",
       "      <th>4</th>\n",
       "      <td></td>\n",
       "      <td>XRPXRP</td>\n",
       "      <td>$0.6211</td>\n",
       "      <td>$33.47B$33,471,164,258</td>\n",
       "    </tr>\n",
       "  </tbody>\n",
       "</table>\n",
       "</div>"
      ],
      "text/plain": [
       "                Name       Price                Market Cap\n",
       "0         BitcoinBTC  $41,791.15  $817.06B$817,062,113,181\n",
       "1        EthereumETH   $2,230.07  $268.02B$268,017,533,198\n",
       "2    Tether USDtUSDT     $0.9999    $89.64B$89,640,573,120\n",
       "3             BNBBNB     $231.26    $35.08B$35,081,479,048\n",
       "4             XRPXRP     $0.6211    $33.47B$33,471,164,258"
      ]
     },
     "execution_count": 340,
     "metadata": {},
     "output_type": "execute_result"
    }
   ],
   "source": [
    "crypto_df = crypto_df.drop(['#', 'Last 7 Days', 'Circulating Supply', '1h %', '24h %', '7d %', 'Volume(24h)'], axis=1)\n",
    "crypto_df.head()"
   ]
  },
  {
   "cell_type": "markdown",
   "metadata": {},
   "source": [
    "Removing the ticker from the Name column"
   ]
  },
  {
   "cell_type": "code",
   "execution_count": 341,
   "metadata": {},
   "outputs": [
    {
     "data": {
      "text/html": [
       "<div>\n",
       "<style scoped>\n",
       "    .dataframe tbody tr th:only-of-type {\n",
       "        vertical-align: middle;\n",
       "    }\n",
       "\n",
       "    .dataframe tbody tr th {\n",
       "        vertical-align: top;\n",
       "    }\n",
       "\n",
       "    .dataframe thead th {\n",
       "        text-align: right;\n",
       "    }\n",
       "</style>\n",
       "<table border=\"1\" class=\"dataframe\">\n",
       "  <thead>\n",
       "    <tr style=\"text-align: right;\">\n",
       "      <th></th>\n",
       "      <th></th>\n",
       "      <th>Name</th>\n",
       "      <th>Price</th>\n",
       "      <th>Market Cap</th>\n",
       "    </tr>\n",
       "  </thead>\n",
       "  <tbody>\n",
       "    <tr>\n",
       "      <th>0</th>\n",
       "      <td></td>\n",
       "      <td>Bitcoin</td>\n",
       "      <td>$41,791.15</td>\n",
       "      <td>$817.06B$817,062,113,181</td>\n",
       "    </tr>\n",
       "    <tr>\n",
       "      <th>1</th>\n",
       "      <td></td>\n",
       "      <td>Ethereum</td>\n",
       "      <td>$2,230.07</td>\n",
       "      <td>$268.02B$268,017,533,198</td>\n",
       "    </tr>\n",
       "    <tr>\n",
       "      <th>2</th>\n",
       "      <td></td>\n",
       "      <td>Tether USDt</td>\n",
       "      <td>$0.9999</td>\n",
       "      <td>$89.64B$89,640,573,120</td>\n",
       "    </tr>\n",
       "    <tr>\n",
       "      <th>3</th>\n",
       "      <td></td>\n",
       "      <td>BNB</td>\n",
       "      <td>$231.26</td>\n",
       "      <td>$35.08B$35,081,479,048</td>\n",
       "    </tr>\n",
       "    <tr>\n",
       "      <th>4</th>\n",
       "      <td></td>\n",
       "      <td>XRP</td>\n",
       "      <td>$0.6211</td>\n",
       "      <td>$33.47B$33,471,164,258</td>\n",
       "    </tr>\n",
       "    <tr>\n",
       "      <th>5</th>\n",
       "      <td></td>\n",
       "      <td>Solana</td>\n",
       "      <td>$61.64</td>\n",
       "      <td>$26.16B$26,158,314,107</td>\n",
       "    </tr>\n",
       "  </tbody>\n",
       "</table>\n",
       "</div>"
      ],
      "text/plain": [
       "            Name       Price                Market Cap\n",
       "0        Bitcoin  $41,791.15  $817.06B$817,062,113,181\n",
       "1       Ethereum   $2,230.07  $268.02B$268,017,533,198\n",
       "2    Tether USDt     $0.9999    $89.64B$89,640,573,120\n",
       "3            BNB     $231.26    $35.08B$35,081,479,048\n",
       "4            XRP     $0.6211    $33.47B$33,471,164,258\n",
       "5         Solana      $61.64    $26.16B$26,158,314,107"
      ]
     },
     "execution_count": 341,
     "metadata": {},
     "output_type": "execute_result"
    }
   ],
   "source": [
    "name_list = []\n",
    "\n",
    "# Appending the name list with the correct names\n",
    "for row in column_data[1:11]:\n",
    "    row_data = row.find_all('td')[2].p.text\n",
    "    name_list.append(row_data)\n",
    "\n",
    "# Replacing the wrong names with the correct ones in the DataFrame\n",
    "for index in range(0, len(crypto_df['Name'])):\n",
    "    crypto_df.loc[index, 'Name'] = name_list[index]\n",
    "\n",
    "crypto_df.head(6)"
   ]
  },
  {
   "cell_type": "markdown",
   "metadata": {},
   "source": [
    "Fixing the Market Cap column to show only the abbreviated market cap"
   ]
  },
  {
   "cell_type": "code",
   "execution_count": 342,
   "metadata": {},
   "outputs": [],
   "source": [
    "crypto_df[['Market Cap', 'Market Cap Aux']] = crypto_df['Market Cap'].str.rsplit('$', expand=True, n=1)\n",
    "crypto_df.drop('Market Cap Aux', axis=1, inplace=True)"
   ]
  },
  {
   "cell_type": "markdown",
   "metadata": {},
   "source": [
    "Making the index go from 1 to 10"
   ]
  },
  {
   "cell_type": "code",
   "execution_count": 343,
   "metadata": {},
   "outputs": [],
   "source": [
    "crypto_df.index = crypto_df.index + 1"
   ]
  },
  {
   "cell_type": "markdown",
   "metadata": {},
   "source": [
    "Final table with the price and market cap for the top 10 cryptocurrencies"
   ]
  },
  {
   "cell_type": "code",
   "execution_count": 344,
   "metadata": {},
   "outputs": [
    {
     "data": {
      "text/html": [
       "<div>\n",
       "<style scoped>\n",
       "    .dataframe tbody tr th:only-of-type {\n",
       "        vertical-align: middle;\n",
       "    }\n",
       "\n",
       "    .dataframe tbody tr th {\n",
       "        vertical-align: top;\n",
       "    }\n",
       "\n",
       "    .dataframe thead th {\n",
       "        text-align: right;\n",
       "    }\n",
       "</style>\n",
       "<table border=\"1\" class=\"dataframe\">\n",
       "  <thead>\n",
       "    <tr style=\"text-align: right;\">\n",
       "      <th></th>\n",
       "      <th></th>\n",
       "      <th>Name</th>\n",
       "      <th>Price</th>\n",
       "      <th>Market Cap</th>\n",
       "    </tr>\n",
       "  </thead>\n",
       "  <tbody>\n",
       "    <tr>\n",
       "      <th>1</th>\n",
       "      <td></td>\n",
       "      <td>Bitcoin</td>\n",
       "      <td>$41,791.15</td>\n",
       "      <td>$817.06B</td>\n",
       "    </tr>\n",
       "    <tr>\n",
       "      <th>2</th>\n",
       "      <td></td>\n",
       "      <td>Ethereum</td>\n",
       "      <td>$2,230.07</td>\n",
       "      <td>$268.02B</td>\n",
       "    </tr>\n",
       "    <tr>\n",
       "      <th>3</th>\n",
       "      <td></td>\n",
       "      <td>Tether USDt</td>\n",
       "      <td>$0.9999</td>\n",
       "      <td>$89.64B</td>\n",
       "    </tr>\n",
       "    <tr>\n",
       "      <th>4</th>\n",
       "      <td></td>\n",
       "      <td>BNB</td>\n",
       "      <td>$231.26</td>\n",
       "      <td>$35.08B</td>\n",
       "    </tr>\n",
       "    <tr>\n",
       "      <th>5</th>\n",
       "      <td></td>\n",
       "      <td>XRP</td>\n",
       "      <td>$0.6211</td>\n",
       "      <td>$33.47B</td>\n",
       "    </tr>\n",
       "    <tr>\n",
       "      <th>6</th>\n",
       "      <td></td>\n",
       "      <td>Solana</td>\n",
       "      <td>$61.64</td>\n",
       "      <td>$26.16B</td>\n",
       "    </tr>\n",
       "    <tr>\n",
       "      <th>7</th>\n",
       "      <td></td>\n",
       "      <td>USDC</td>\n",
       "      <td>$0.9999</td>\n",
       "      <td>$24.35B</td>\n",
       "    </tr>\n",
       "    <tr>\n",
       "      <th>8</th>\n",
       "      <td></td>\n",
       "      <td>Cardano</td>\n",
       "      <td>$0.4008</td>\n",
       "      <td>$14.15B</td>\n",
       "    </tr>\n",
       "    <tr>\n",
       "      <th>9</th>\n",
       "      <td></td>\n",
       "      <td>Dogecoin</td>\n",
       "      <td>$0.08929</td>\n",
       "      <td>$12.69B</td>\n",
       "    </tr>\n",
       "    <tr>\n",
       "      <th>10</th>\n",
       "      <td></td>\n",
       "      <td>TRON</td>\n",
       "      <td>$0.1032</td>\n",
       "      <td>$9.13B</td>\n",
       "    </tr>\n",
       "  </tbody>\n",
       "</table>\n",
       "</div>"
      ],
      "text/plain": [
       "             Name       Price Market Cap\n",
       "1         Bitcoin  $41,791.15   $817.06B\n",
       "2        Ethereum   $2,230.07   $268.02B\n",
       "3     Tether USDt     $0.9999    $89.64B\n",
       "4             BNB     $231.26    $35.08B\n",
       "5             XRP     $0.6211    $33.47B\n",
       "6          Solana      $61.64    $26.16B\n",
       "7            USDC     $0.9999    $24.35B\n",
       "8         Cardano     $0.4008    $14.15B\n",
       "9        Dogecoin    $0.08929    $12.69B\n",
       "10           TRON     $0.1032     $9.13B"
      ]
     },
     "execution_count": 344,
     "metadata": {},
     "output_type": "execute_result"
    }
   ],
   "source": [
    "crypto_df"
   ]
  }
 ],
 "metadata": {
  "kernelspec": {
   "display_name": "base",
   "language": "python",
   "name": "python3"
  },
  "language_info": {
   "codemirror_mode": {
    "name": "ipython",
    "version": 3
   },
   "file_extension": ".py",
   "mimetype": "text/x-python",
   "name": "python",
   "nbconvert_exporter": "python",
   "pygments_lexer": "ipython3",
   "version": "3.11.4"
  },
  "orig_nbformat": 4
 },
 "nbformat": 4,
 "nbformat_minor": 2
}
